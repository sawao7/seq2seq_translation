{
  "nbformat": 4,
  "nbformat_minor": 0,
  "metadata": {
    "colab": {
      "name": "sawao_translate.ipynb",
      "provenance": [],
      "collapsed_sections": [],
      "mount_file_id": "1Hg12CX0pZUjzxwK57tyHIKEtgXBi4RRa",
      "authorship_tag": "ABX9TyNtd3sqRLZf2qWZGuMZAUry",
      "include_colab_link": true
    },
    "kernelspec": {
      "name": "python3",
      "display_name": "Python 3"
    },
    "language_info": {
      "name": "python"
    }
  },
  "cells": [
    {
      "cell_type": "markdown",
      "metadata": {
        "id": "view-in-github",
        "colab_type": "text"
      },
      "source": [
        "<a href=\"https://colab.research.google.com/github/sawao7/seq2seq_translation/blob/main/sawao_translate.ipynb\" target=\"_parent\"><img src=\"https://colab.research.google.com/assets/colab-badge.svg\" alt=\"Open In Colab\"/></a>"
      ]
    },
    {
      "cell_type": "code",
      "metadata": {
        "id": "qsp9uIMarPbQ"
      },
      "source": [
        "import pandas as pd\n",
        "import numpy as np\n",
        "import matplotlib.pyplot as plt\n",
        "import re\n",
        "import tensorflow as tf\n",
        "import nltk\n",
        "from nltk.translate.bleu_score import sentence_bleu\n",
        "from nltk.translate.bleu_score import SmoothingFunction"
      ],
      "execution_count": null,
      "outputs": []
    },
    {
      "cell_type": "code",
      "metadata": {
        "colab": {
          "base_uri": "https://localhost:8080/"
        },
        "id": "9biahHbwJ4Ah",
        "outputId": "d1231727-5ba0-4a32-8f73-25c84c69f560"
      },
      "source": [
        "!git clone https://github.com/odashi/small_parallel_enja.git"
      ],
      "execution_count": null,
      "outputs": [
        {
          "output_type": "stream",
          "text": [
            "Cloning into 'small_parallel_enja'...\n",
            "remote: Enumerating objects: 35, done.\u001b[K\n",
            "remote: Total 35 (delta 0), reused 0 (delta 0), pack-reused 35\u001b[K\n",
            "Unpacking objects: 100% (35/35), done.\n"
          ],
          "name": "stdout"
        }
      ]
    },
    {
      "cell_type": "code",
      "metadata": {
        "id": "70zvJmEzrStk"
      },
      "source": [
        "with open(\"/content/drive/MyDrive/DataSets/Translate/split/dev\", \"r\") as f:\n",
        "  dev = f.readlines()\n",
        "with open(\"/content/drive/MyDrive/DataSets/Translate/split/test\", \"r\") as f:\n",
        "  test = f.readlines()\n",
        "with open(\"/content/drive/MyDrive/DataSets/Translate/split/train\", \"r\") as f:\n",
        "  train = f.readlines()"
      ],
      "execution_count": null,
      "outputs": []
    },
    {
      "cell_type": "code",
      "metadata": {
        "id": "bip37_KsuZFW"
      },
      "source": [
        "def format_list(list):\n",
        "  return [re.sub(\"\\n\",\"\",s).split(\"\\t\") for s in list]\n",
        "\n",
        "def AddEndAndStart(text):\n",
        "  return \"<start>\" + text + \"<end>\"\n",
        "\n",
        "def BuildTokenizer(texts):\n",
        "  tokenizer = tf.keras.preprocessing.text.Tokenizer(filters='\\n', oov_token=\"<unk>\")\n",
        "  tokenizer.fit_on_texts(texts)\n",
        "  return tokenizer\n",
        "\n",
        "def Texts2Sequences(tok, train_texts, test_texts):\n",
        "  train_sequences = tok.texts_to_sequences(train_texts)\n",
        "  # valid_sequences = tok.texts_to_sequences(valid_texts)\n",
        "  test_sequences = tok.texts_to_sequences(test_texts)\n",
        "  \n",
        "  padded_train_sequences = tf.keras.preprocessing.sequence.pad_sequences(train_sequences, padding=\"post\")\n",
        "\n",
        "  return padded_train_sequences, test_sequences"
      ],
      "execution_count": null,
      "outputs": []
    },
    {
      "cell_type": "code",
      "metadata": {
        "id": "vtaRMKP5uqUW"
      },
      "source": [
        "dev = format_list(dev)\n",
        "test = format_list(test)\n",
        "train = format_list(train)\n",
        "# df_dev = pd.DataFrame(dev, columns = [\"英語\",\"日本語\"])\n",
        "# df_test = pd.DataFrame(test, columns = [\"英語\",\"日本語\"])\n",
        "# df_train = pd.DataFrame(train, columns = [\"英語\",\"日本語\"])"
      ],
      "execution_count": null,
      "outputs": []
    },
    {
      "cell_type": "markdown",
      "source": [
        ""
      ],
      "metadata": {
        "id": "1uu8j3cMdPH5"
      }
    },
    {
      "cell_type": "code",
      "metadata": {
        "id": "2RDHr0ACwayT"
      },
      "source": [
        "# train_ja = []\n",
        "# train_en = []\n",
        "# test_ja = []\n",
        "# test_en = []\n",
        "\n",
        "# for i,x in train:\n",
        "#   train_ja.append(AddEndAndStart(x))\n",
        "#   train_en.append(AddEndAndStart(i))\n",
        "\n",
        "# for i,x in test:\n",
        "#   test_ja.append(AddEndAndStart(x))\n",
        "#   test_en.append(AddEndAndStart(i))\n",
        "\n",
        "def Preprocess(text):\n",
        "  text = \"<start> \"+text+\" <end>\"\n",
        "  text = text.replace(\"\\n\", \" \")\n",
        "  text = re.sub(r\"[' ']+\", \" \", text)\n",
        "  return text\n",
        "\n",
        "def Read(filename):\n",
        "  new_lines = []\n",
        "  with open(filename, \"r\") as f:\n",
        "    lines = f.readlines()\n",
        "  for line in lines:\n",
        "    new_lines.append(Preprocess(line))\n",
        "  return new_lines\n",
        "\n",
        "DIR_NAME = \"small_parallel_enja/\"\n",
        "train_ja = Read(DIR_NAME+\"train.ja\")\n",
        "train_en = Read(DIR_NAME+\"train.en\")\n",
        "\n",
        "valid_ja = Read(DIR_NAME+\"dev.ja\")\n",
        "valid_en = Read(DIR_NAME+\"dev.en\")\n",
        "\n",
        "test_ja = Read(DIR_NAME+\"test.ja\")\n",
        "test_en = Read(DIR_NAME+\"test.en\")"
      ],
      "execution_count": null,
      "outputs": []
    },
    {
      "cell_type": "code",
      "metadata": {
        "colab": {
          "base_uri": "https://localhost:8080/"
        },
        "id": "JHpNJt4LOuNV",
        "outputId": "7074359f-e0b5-40c1-a720-6b3eccaf965b"
      },
      "source": [
        "test_ja"
      ],
      "execution_count": null,
      "outputs": [
        {
          "output_type": "execute_result",
          "data": {
            "text/plain": [
              "['<start> 彼 ら は つい に それ が 真実 だ と 認め た 。 <end>',\n",
              " '<start> 彼 は 水泳 が 得意 で は な かっ た 。 <end>',\n",
              " '<start> 彼 は お 姉 さん に 劣 ら ず 親切 だ 。 <end>',\n",
              " '<start> １０ 時 前 に 戻 ら な けれ ば な ら な い 。 <end>',\n",
              " '<start> 成功 を 祈 る わ 。 <end>',\n",
              " '<start> 彼女 は 私 たち の 隣 の 家 に す ん で い る 。 <end>',\n",
              " '<start> あなた に 返事 を し よ う と し て い る ところ で す 。 <end>',\n",
              " '<start> 私 は 刹那 的 な 生き 方 を し て い る 人間 で す 。 <end>',\n",
              " '<start> この 試合 は いただ き だ 。 <end>',\n",
              " '<start> こんな こと を し た 理由 を 言 い な さ い 。 <end>',\n",
              " '<start> 彼女 は その 先生 が 好き で す 。 <end>',\n",
              " '<start> それ が 仕事 で す 。 <end>',\n",
              " '<start> この 靴 は 二 年 も つ で しょ う 。 <end>',\n",
              " '<start> 彼 は 自分 の 代わり に 息子 を その 会合 に 出席 さ せ た 。 <end>',\n",
              " '<start> 行 か な い 理由 を 述べ なさ い 。 <end>',\n",
              " '<start> 一 日 の 仕事 が 終わ る と 皆 家路 を 急 ぐ 。 <end>',\n",
              " '<start> 私 は 彼女 の 顔 を まとも に 見 る こと が な かっ た 。 <end>',\n",
              " '<start> 日曜 日 の 朝 に 教会 に 行 く 人 も い る 。 <end>',\n",
              " '<start> 私 は 時計 を ２ 分 進め な けれ ば な ら な い 。 <end>',\n",
              " '<start> あれ は 私 が 昨日 会 っ た 少年 で す 。 <end>',\n",
              " '<start> １０ 年 は 待 つ に は 長 い 時間 だ 。 <end>',\n",
              " '<start> 私 は 東京 で 偶然 彼 に 会 っ た 。 <end>',\n",
              " '<start> 私 は よく 川 へ 泳ぎ に 行 く 。 <end>',\n",
              " '<start> 彼 は 大声 で 助け を 求め た 。 <end>',\n",
              " '<start> 彼 は その 子供 を 火事 から 救い出 し た 。 <end>',\n",
              " '<start> 彼 の 提案 に は 同意 でき な い 。 <end>',\n",
              " '<start> 私 達 は その 手紙 を 何 度 も 繰り返 し て 読 ん だ 。 <end>',\n",
              " '<start> 私 は 君 に 会え て うれし い 。 <end>',\n",
              " '<start> お 父 さん に 手伝 っ て もら い なさ い 。 <end>',\n",
              " '<start> 彼 ら は その 提案 を 採択 し た 。 <end>',\n",
              " '<start> 私 は 特別 気持ち が い い 。 <end>',\n",
              " '<start> それ から ずっと 彼 を 見 た もの は な い 。 <end>',\n",
              " '<start> 彼女 に も 全盛 時代 が あ っ た 。 <end>',\n",
              " '<start> それ を ほか の 子供 たち に も 回 し て くださ い 。 <end>',\n",
              " '<start> 私 は いつ まで も 彼 の 名 を 覚え て い る 。 <end>',\n",
              " '<start> 結婚 し ま しょ う 。 <end>',\n",
              " '<start> 私 たち は 時々 彼 ら に 会 う 。 <end>',\n",
              " '<start> 地球 は 自転 する 。 <end>',\n",
              " '<start> どちら が ほし い の か 言 い な さ い 。 <end>',\n",
              " '<start> 彼 の 居 場所 が 分か っ て い れ ば なあ 。 <end>',\n",
              " '<start> 先週 数学 の 試験 を 受け た 。 <end>',\n",
              " '<start> 清算 を お 願 い し ま す 。 <end>',\n",
              " '<start> 耳 を 澄 ま し た が 何 も 聞こえ な かっ た 。 <end>',\n",
              " '<start> 彼女 は その 男 と は 結婚 し な かっ た 。 <end>',\n",
              " '<start> 彼 は あまり 本 を 読 ま な い 。 <end>',\n",
              " '<start> 彼女 に は 敵 は い な い 。 <end>',\n",
              " '<start> 夏 は とても 湿気 が 多 い の で す 。 <end>',\n",
              " '<start> 彼 は 私 に ペン で 手紙 を 書 か せ た 。 <end>',\n",
              " '<start> 彼 は 読書 に 飽き た 。 <end>',\n",
              " '<start> ここ へ 住所 と 名前 を お 書 き くださ い 。 <end>',\n",
              " '<start> 彼女 は かなり うま く ピアノ を 弾 い た 。 <end>',\n",
              " '<start> 頼 ん だ 物 が まだ 来 ま せ ん 。 <end>',\n",
              " '<start> この 図書 館 に は 非常 に たくさん の 本 が あ り ま す 。 <end>',\n",
              " '<start> あらゆる 機会 を 利用 し なさ い 。 <end>',\n",
              " '<start> 君 の 町 に いく つ 学校 が あ り ま す か 。 <end>',\n",
              " '<start> 私 は 悲し い 映画 は 嫌い だ 。 <end>',\n",
              " '<start> 私 が 約束 を 忘れ た とき 、 彼女 は とても 怒 っ た 。 <end>',\n",
              " '<start> あなた くらい の 年齢 の 人 に よく あ る 症状 で す 。 <end>',\n",
              " '<start> 私 は 君 の 車 が 好き だ 。 <end>',\n",
              " '<start> 彼女 は 立 っ て 川 を 見 て い た 。 <end>',\n",
              " '<start> 彼 が 来 よ う が 来 まい が 、 私 は 行 く 。 <end>',\n",
              " '<start> 私 は 母 ほど 早 く 起き ま せ ん 。 <end>',\n",
              " '<start> 赤 く さえ あ れ ば 、 どんな 花 で も 結構 で す 。 <end>',\n",
              " '<start> 忘れ ず に 仲間 に 入れ て くれ 。 <end>',\n",
              " '<start> 貴方 達 は 、 一 つ で す 。 <end>',\n",
              " '<start> 私 は 要点 を はず さ な い 。 <end>',\n",
              " '<start> 月曜 日 まで に ここ に 来 て い ま す 。 <end>',\n",
              " '<start> 彼女 は クラス で 一番 幸せ で す 。 <end>',\n",
              " '<start> 朝日 は なん と 美し い の だ ろ う 。 <end>',\n",
              " '<start> 時間 ほど 貴重 な 物 は な い 。 <end>',\n",
              " '<start> そんな に 早 く 来 る 必要 は な かっ た 。 <end>',\n",
              " '<start> 私 は 質問 が あ っ た の で 、 手 を 挙げ た 。 <end>',\n",
              " '<start> 彼女 は 自分 人生 に 満足 し て い る と い っ た 。 <end>',\n",
              " '<start> 会 が 散会 し た の は 昨夜 ８ 時 ごろ だっ た 。 <end>',\n",
              " '<start> 人 の 人生 は 、 はかな い もの だ 。 <end>',\n",
              " '<start> そんな に 気 を 持 た せ な い で 。 <end>',\n",
              " '<start> 彼 ら は 数 の 力 で 勝 っ た 。 <end>',\n",
              " '<start> 私 は その 時 夕食 を 食べ て い ま し た 。 <end>',\n",
              " '<start> 今日 は 暑 い 。 <end>',\n",
              " '<start> 彼 は 刑事 だ 。 <end>',\n",
              " '<start> 彼 は いつ も 彼女 の 見 方 を する 。 <end>',\n",
              " '<start> ジェーン は いつ も とても 金持ち の よう な そぶり だっ た 。 <end>',\n",
              " '<start> 彼 は なん と 悪 い 子 な の だ ろ う 。 <end>',\n",
              " '<start> 彼 は いわゆる 時 の 人 だ 。 <end>',\n",
              " '<start> 本当 は 、 彼 は い い やつ な ん だ 。 <end>',\n",
              " '<start> 答え は どこ に あ る ん だ ろ う 。 <end>',\n",
              " '<start> 君 は 試験 の 準備 を し た ほう が よ い 。 <end>',\n",
              " '<start> 私 は 物 が よく 見え ま せ ん 。 <end>',\n",
              " '<start> 車 を 借り られ ま す か 。 <end>',\n",
              " '<start> 賢 い 人 なら そんな こと 言 わ な い で しょ う 。 <end>',\n",
              " '<start> 彼 は 私 に 彼女 が 病気 だ と 言 っ た 。 <end>',\n",
              " '<start> 庭 に は 誰 も い な かっ た 。 <end>',\n",
              " '<start> 大学 は 駅 から 遠 い の で す 。 <end>',\n",
              " '<start> 彼 は 手紙 を 書 き 続け て い た 。 <end>',\n",
              " '<start> 彼 は その こと で 彼女 と 相談 し た 。 <end>',\n",
              " '<start> それ 、 ちょっと 見せ て 。 <end>',\n",
              " '<start> 彼 は 目 を と し て そこ に 座 り ま し た 。 <end>',\n",
              " '<start> 若 い うち は 苦労 す べ き だ 。 <end>',\n",
              " '<start> 彼 は 突然 出発 し た 。 <end>',\n",
              " '<start> この よう に し て その 事件 は 起こ っ た の で す 。 <end>',\n",
              " '<start> ジェーン は 若 い 頃 スチュワーデス だっ た 。 <end>',\n",
              " '<start> 彼 は 奥 さん が 怖 かっ た 。 <end>',\n",
              " '<start> 駅 まで は どの くらい あ り ま す か 。 <end>',\n",
              " '<start> 彼 は 今 まで に い な い ほど 勤勉 な 男 だ 。 <end>',\n",
              " '<start> 約束 を 破 っ て は な ら な い 。 <end>',\n",
              " '<start> 自分 たち の 持ち家 が 欲し い 。 <end>',\n",
              " '<start> 君 は 僕 に な い もの ねだり を し て い る ね 。 <end>',\n",
              " '<start> この 荷物 は あの 荷物 の ３ 倍 以上 の 重 さ だ 。 <end>',\n",
              " '<start> ロンドン で 過ご し た 楽し い 日々 の こと を 時々 思い出 す 。 <end>',\n",
              " '<start> 私 は タクシー から 出 た 。 <end>',\n",
              " '<start> 私 は 今夜 話 す こと に な っ て い る 。 <end>',\n",
              " '<start> その 女 の こ 達 は 、 とても 忙し い 。 <end>',\n",
              " '<start> 私 たち の 学校 は 男子 より 女子 の 方 が 多 い 。 <end>',\n",
              " '<start> 日 が だんだん 長 く な っ て き て い ま す 。 <end>',\n",
              " '<start> それ を テーブル の 上 に 置 き なさ い 。 <end>',\n",
              " '<start> 今日 は 何 を する つもり で す か 。 <end>',\n",
              " '<start> 昨夜 は ひど く 雨 が 降 っ た 。 <end>',\n",
              " '<start> 今夜 は 映画 に で も 行 き ま しょ う 。 <end>',\n",
              " '<start> あなた は 我々 を 援助 する 必要 は な い 。 <end>',\n",
              " '<start> もちろん 、 私 は あなた と そこ に 行 く つもり で す 。 <end>',\n",
              " '<start> 彼 ら は 部屋 で 少し 寝 た 。 <end>',\n",
              " '<start> 気持ち を 隠 さ ず 話 し なさ い 。 <end>',\n",
              " '<start> その 老人 は 先週 な く な り ま し た 。 <end>',\n",
              " '<start> 何 が 起こ っ た か 聞 い て びっくり し た 。 <end>',\n",
              " '<start> 彼 の 手 は 寒 さ で 青白 く な っ て い た 。 <end>',\n",
              " '<start> 彼女 と 言 う 人 が ぜんぜん 分か ら な かっ た 。 <end>',\n",
              " '<start> それ は 私 の 研究 外 の こと で す 。 <end>',\n",
              " '<start> おまえ が 宿題 を 忘れ た の は 不 注意 だっ た 。 <end>',\n",
              " '<start> 私 の 家 の 前 に 公園 が あ り ま す 。 <end>',\n",
              " '<start> 僕 は 、 ぜんぜん 疲れ て い ま せ ん 。 <end>',\n",
              " '<start> 誰 に 会 っ て も 、 同じ こと さ 。 <end>',\n",
              " '<start> ジェーン は 、 お 母 さん と 同じ くらい の 美人 で す 。 <end>',\n",
              " '<start> 一体 全体 どう し た の だ 。 <end>',\n",
              " '<start> 私 は 彼女 と スキー に 行 き た い 。 <end>',\n",
              " '<start> その 探偵 小説 は 大変 難し い の で 、 好き で は な い 。 <end>',\n",
              " '<start> 先生 は 彼女 を ほめ た 。 <end>',\n",
              " '<start> はい 、 あなた あて の 手紙 で す よ 。 <end>',\n",
              " '<start> その 言葉 の 意味 は 理解 し やす い 。 <end>',\n",
              " '<start> スポーツ と 言 え ば 、 君 は テニス が 出来 ま す か 。 <end>',\n",
              " '<start> もう 晴れ た よ 。 <end>',\n",
              " '<start> 私 は 毎朝 ６ 時 に 起き る 。 <end>',\n",
              " '<start> 昨夜 その 銀行 に 強盗 が 入 っ た 。 <end>',\n",
              " '<start> 彼女 の よう な 女性 と 結婚 し た い ね 。 <end>',\n",
              " '<start> 彼 は 静か に する よう に 私 たち に い っ た 。 <end>',\n",
              " '<start> 彼 は 古来 ま れ な 大 政治 家 で あ る 。 <end>',\n",
              " '<start> あなた の お 父 さん を 誇り に 思 い ま す か 。 <end>',\n",
              " '<start> コンピューター なら その 仕事 を 簡単 に でき る 。 <end>',\n",
              " '<start> この 事件 は あの 事件 と 似 た ところ が あ る 。 <end>',\n",
              " '<start> 庭 に 古 い 桜 の 木 が 一 本 あ り ま す 。 <end>',\n",
              " '<start> 私 は 猫 が 嫌い だ し 私 の 兄 も そう だ 。 <end>',\n",
              " '<start> 兄 は 今 、 失業 中 で す 。 <end>',\n",
              " '<start> 彼 は 顔 を 振り向け さえ し な かっ た 。 <end>',\n",
              " '<start> 彼 は 次 の バス 停 で 降り た 。 <end>',\n",
              " '<start> 誰 が これ を し た の か は わか ら な い 。 <end>',\n",
              " '<start> 彼女 は 私 に 部屋 を 見せ て くれ た 。 <end>',\n",
              " '<start> 彼 は 私 に どっち へ 行 け ば い い の か 尋ね た 。 <end>',\n",
              " '<start> 彼女 は その 結果 を とても 知 り たが っ て い る 。 <end>',\n",
              " '<start> その 庭 に は あらゆる 種類 の 花 が あ る 。 <end>',\n",
              " '<start> 彼 は 青 い 上着 を 着 て い た 。 <end>',\n",
              " '<start> 誰 も 乗 っ て こ な い だ ろ う 。 <end>',\n",
              " '<start> 彼 は 暖か い 心 の 持ち主 で す 。 <end>',\n",
              " '<start> 彼女 は 学校 に 行 っ た 最初 の 日 を 思い出 し た 。 <end>',\n",
              " '<start> 将来 は もう 少し 注意 し なさ い 。 <end>',\n",
              " '<start> 私 は 彼女 と 連絡 を と る の に 大変 苦労 し た 。 <end>',\n",
              " '<start> 警官 が すぐ に 到着 し た の に は 驚 い た 。 <end>',\n",
              " '<start> こちら に 着 い たら すぐ 連絡 し て 下さ い 。 <end>',\n",
              " '<start> 彼 が 家出 し た の は 事実 だ 。 <end>',\n",
              " '<start> その 知らせ は 彼女 を たいへん 悲し ま せ た 。 <end>',\n",
              " '<start> 昨日 は 素晴らし い 夕食 に ご 招待 し て もら っ て 、 ありがとう 。 <end>',\n",
              " '<start> 私 は 学校 に １０ 分 遅刻 し た 。 <end>',\n",
              " '<start> どんな 天気 で す か 。 <end>',\n",
              " '<start> 彼女 は 過度 に 働 き すぎ だ 。 <end>',\n",
              " '<start> 父 は テーブル の 自分 の 席 に 着 い た 。 <end>',\n",
              " '<start> 彼 は まだ 生き て い る 。 <end>',\n",
              " '<start> 父 は 木 に はしご を 立て かけ た 。 <end>',\n",
              " '<start> ドア を 開け て い た いただけ ま せ ん か 。 <end>',\n",
              " '<start> 私 は 彼 と 昼食 を 食べ る 予定 だ 。 <end>',\n",
              " '<start> 私 たち は お 金 が 少し 必要 だ 。 <end>',\n",
              " '<start> 私 は 公園 に 歩 く 。 <end>',\n",
              " '<start> そこ で 待 っ て て くださ い 。 <end>',\n",
              " '<start> 奥 さん は どこ に 行 っ ちゃ た の 。 <end>',\n",
              " '<start> 彼 は この 試合 を 勝ち そう だ 。 <end>',\n",
              " '<start> 誰 か これ を 手伝 っ て いただけ ま せ ん か 。 <end>',\n",
              " '<start> この 市 に は いく つ も の 映画 館 が あ る 。 <end>',\n",
              " '<start> ここ で 明日 また 会 い ま しょ う 。 <end>',\n",
              " '<start> 雨 が 降 ら な けれ ば 私 も 行 き ま す 。 <end>',\n",
              " '<start> 私 は 心 の 底 から 、 この 仕事 が 好き だ 。 <end>',\n",
              " '<start> こんな 素晴らし い パーティー は 初めて で す 。 <end>',\n",
              " '<start> 彼 ら は 彼 を 勉強 し な い の で 退学 さ せ た 。 <end>',\n",
              " '<start> 君 の ところ へ 行 く 前 に 電話 を かけ ま す 。 <end>',\n",
              " '<start> 彼 の 話 は 本当 の よう に 聞こえ る 。 <end>',\n",
              " '<start> 彼 は 少し 前 に 去 っ た 。 <end>',\n",
              " '<start> この 漢字 は どう 意味 で す か 。 <end>',\n",
              " '<start> あなた は 、 すぐ そこ に 行 か な く て は いけ な い 。 <end>',\n",
              " '<start> 息子 に その 仕事 を や ら せ よ う 。 <end>',\n",
              " '<start> ワイン を 一杯 頂 き た い 。 <end>',\n",
              " '<start> 彼 は 簡素 な 生活 を 送 っ た 。 <end>',\n",
              " '<start> 彼 は 帽子 を かぶ っ て は い な かっ た 。 <end>',\n",
              " '<start> 息子 は 医学 の 勉強 に アメリカ に 行 き ま し た 。 <end>',\n",
              " '<start> 私 は 息 を 切 ら せ て 走 っ た 。 <end>',\n",
              " '<start> 私 は 辛 い 食物 は あまり 好き で は な い 。 <end>',\n",
              " '<start> 我々 は すぐ に 出発 し な けれ ば な り ま せ ん 。 <end>',\n",
              " '<start> 私 は ただ の 名無し の 権兵衛 で す 。 <end>',\n",
              " '<start> この 問題 は 簡単 で は な い 。 <end>',\n",
              " '<start> もう 家 に 帰 っ て も よ い で す か 。 <end>',\n",
              " '<start> 私 は どちら も 好き で す 。 <end>',\n",
              " '<start> 彼 ら は 木 の 下 に 座 っ た 。 <end>',\n",
              " '<start> 目 に 砂 が 入 り ま し た 。 <end>',\n",
              " '<start> 老人 は 休 む ため に 少し の 間立 ち止ま っ た 。 <end>',\n",
              " '<start> 君 は 月 に 何 回 家 に 手紙 を か き ま す か 。 <end>',\n",
              " '<start> トニー 君 は その 時 忙し く な かっ た 。 <end>',\n",
              " '<start> みんな 売り切れ で す 。 <end>',\n",
              " '<start> 飛行 機 で ５０ 分 で 着 く で しょ う 。 <end>',\n",
              " '<start> 彼女 は あ る 外国 人 学生 と 付き合 っ て い る 。 <end>',\n",
              " '<start> 昨日 、 私 は 駅 で 彼女 に 偶然 出会 っ た 。 <end>',\n",
              " '<start> 正午 まで に は そこ に 着 く はず だ 。 <end>',\n",
              " '<start> 昨日 は 今日 より 寒 かっ た 。 <end>',\n",
              " '<start> 君 は 前 と 同じ 誤り を 犯 し た 。 <end>',\n",
              " '<start> 叔父 が 私 に 本 を 買 っ て くれ た 。 <end>',\n",
              " '<start> 疲れ て い た の で 、 彼女 は 早 く 寝 た 。 <end>',\n",
              " '<start> 今日 は 天気 が 異常 だ 。 <end>',\n",
              " '<start> 彼 は たいへん 注意 深 く ふるま っ て い る 。 <end>',\n",
              " '<start> 老人 が 考え を 変え る の は 難し い 。 <end>',\n",
              " '<start> あなた は 、 早 く 寝 た 方 が い い 。 <end>',\n",
              " '<start> 彼 は 事故 で 負傷 し た 。 <end>',\n",
              " '<start> その 男 の 名前 は よく 覚え て い る 。 <end>',\n",
              " '<start> ついに 彼 ら は 決定 に 達 し た 。 <end>',\n",
              " '<start> 彼 は その チーム の 所属 だ 。 <end>',\n",
              " '<start> たばこ を やめ たら 。 <end>',\n",
              " '<start> 彼 ら は バス に 乗りこ ん だ 最初 の 人 たち だっ た 。 <end>',\n",
              " '<start> 君 が 日本 を 離れ る の は 残念 だ 。 <end>',\n",
              " '<start> それ は 驚 く べ き 事 だ 。 <end>',\n",
              " '<start> 私 たち は その 町 に 来 て 、 １ 週間 滞在 し た 。 <end>',\n",
              " '<start> 私 の 持ち物 に 触れ な い で くださ い 。 <end>',\n",
              " '<start> で も 、 手紙 を 書 い て よ ね 。 <end>',\n",
              " '<start> それ は 反道徳 的 だ 。 <end>',\n",
              " '<start> バター を もう 少し くださ い 。 <end>',\n",
              " '<start> あの 少年 は トニー で す ね 。 <end>',\n",
              " '<start> 私 は 夏 が 一番 好き だ 。 <end>',\n",
              " '<start> 飛行 機 が 地面 に 落ち た 。 <end>',\n",
              " '<start> 彼女 は ペン を お い た 。 <end>',\n",
              " '<start> その 部屋 に は ほとんど なに も な かっ た 。 <end>',\n",
              " '<start> 今日 の 午後 は 雨 が 降 ら な い よう に 思 う 。 <end>',\n",
              " '<start> 道 は ここ で 二 つ に 分かれ て い る 。 <end>',\n",
              " '<start> あなた は 音楽 の 才能 が あ る 。 <end>',\n",
              " '<start> 彼女 は スキー が 上手 い 。 <end>',\n",
              " '<start> 彼 は 金 を 使 い 果た し た 。 <end>',\n",
              " '<start> 結局 すべて が 旨 く 行 っ た 。 <end>',\n",
              " '<start> 彼 は 喫煙 を やめ た 。 <end>',\n",
              " '<start> 彼 は でき る だけ 早 く 勘定 を 払 う と 約束 し た 。 <end>',\n",
              " '<start> 彼 は 英語 の 授業 で 遅れ を と っ た 。 <end>',\n",
              " '<start> 彼 は ８ 年 ぶり に 日本 に 帰 っ た 。 <end>',\n",
              " '<start> 川沿い に きれい な 散歩道 が あ る 。 <end>',\n",
              " '<start> 一杯 おご ら せ て 下さ い 。 <end>',\n",
              " '<start> 私 は 彼女 に つ い て 大変 心配 し て い る 。 <end>',\n",
              " '<start> ほとんど の 人々 が お 互い を よく 知 ら な い 。 <end>',\n",
              " '<start> その 事故 は どんな ふう に し て 起こ っ た の で す か 。 <end>',\n",
              " '<start> いつ ここ を お 立ち に な り ま す か 。 <end>',\n",
              " '<start> メアリー は タイピスト に な っ た 。 <end>',\n",
              " '<start> 父 は 車 の 無 事故 を 自慢 し て い る 。 <end>',\n",
              " '<start> 彼 は 私 に 計画 の 変更 を 知 ら せ て き た 。 <end>',\n",
              " '<start> 私 と いっしょ に 座り なさ い 。 <end>',\n",
              " '<start> 手紙 を 速達 で 送 っ て くださ い 。 <end>',\n",
              " '<start> これ は 大切 な 手紙 だ 。 <end>',\n",
              " '<start> あなた が 欲し い だけ 取 り なさ い 。 <end>',\n",
              " '<start> 彼 の 小説 は 私 に は 難し すぎ る 。 <end>',\n",
              " '<start> 彼 は 経済 的 に 妻 に 頼 っ て い る 。 <end>',\n",
              " '<start> あなた は 両親 から 独立 し て も よ い 年 だ 。 <end>',\n",
              " '<start> 私 達 は 歩 い て 川 へ 行 き ま し た 。 <end>',\n",
              " '<start> 私 は 彼 に 計画 を 変更 さ せ た 。 <end>',\n",
              " '<start> 彼 は 友達 を 裏切 る よう な 人 で は な い 。 <end>',\n",
              " '<start> 彼 は 金 が な い ため 旅行 に 行け な かっ た 。 <end>',\n",
              " '<start> 私 は １ 時間 通勤 する 。 <end>',\n",
              " '<start> 彼 ら は 次 から 次 へ と 水 の 中 に 飛びこ ん だ 。 <end>',\n",
              " '<start> 私 は 暑さ に は 慣れ て い た 。 <end>',\n",
              " '<start> 家 に 帰 る 途中 で どうぞ 立ち寄 っ て くださ い 。 <end>',\n",
              " '<start> 彼 は 海外 旅行 を あきらめ た 。 <end>',\n",
              " '<start> 会社 を 危険 な 目 に あわせ な い で 。 <end>',\n",
              " '<start> だれ か 玄関 に い る 。 <end>',\n",
              " '<start> 彼 は 徐々 に 父 を 愛 する よう に な っ た 。 <end>',\n",
              " '<start> 屋根 の 上 に 月 が 見え た 。 <end>',\n",
              " '<start> 彼 は 今日 は 家 に い る はず で す 。 <end>',\n",
              " '<start> 今朝 ピアノ の 練習 を し ま し た か 。 <end>',\n",
              " '<start> 故郷 の 老い た 両親 の こと を 考え て 見 る べ き だ 。 <end>',\n",
              " '<start> 悲し い こと に 、 彼女 の 息子 は 若死 に し た 。 <end>',\n",
              " '<start> もし 明日 雨 が 降 れ ば 、 家 に い ま す か 。 <end>',\n",
              " '<start> 学生 割引 は あ り ま す か 。 <end>',\n",
              " '<start> 夕食 し ま しょ う 。 <end>',\n",
              " '<start> 何 か あ っ たら すぐ に 連絡 し て くださ い 。 <end>',\n",
              " '<start> あえて 行 く に 及 ば な い 。 <end>',\n",
              " '<start> ともかく 、 君 の 知 っ た こと で は な い 。 <end>',\n",
              " '<start> ３ 年 と い う は 長 い 時間 だ と 私 は 思 う 。 <end>',\n",
              " '<start> クーラー を 入れ て いただけ ま す か 。 <end>',\n",
              " '<start> 私 は 友人 の 前 で 負け た く な かっ た 。 <end>',\n",
              " '<start> 壁 を 塗り 終え たら 、 すぐ に 帰宅 し て も い い よ 。 <end>',\n",
              " '<start> 今 とても 眠 い 。 <end>',\n",
              " '<start> 音楽 が な っ て い る の に 彼女 の 鳴き声 が 聞こえ た 。 <end>',\n",
              " '<start> 先週 の 金曜 日 この 部屋 で 会合 が あ っ た 。 <end>',\n",
              " '<start> お 話 に な る 方 の お 名前 は 。 <end>',\n",
              " '<start> 彼 の 父 は １ 週間 に ２ 回 そこ で 食べ る 。 <end>',\n",
              " '<start> 彼 は 若 い 頃 、 ひど い 貧乏 だっ た 。 <end>',\n",
              " '<start> あなた は その 窓 を 開け て も よ い 。 <end>',\n",
              " '<start> スピード の 出 し 過ぎ は 危険 で す 。 <end>',\n",
              " '<start> 私 は 彼 と 一緒 に 遊 ぶ 。 <end>',\n",
              " '<start> 俺 は 人間 だ 。 <end>',\n",
              " '<start> ご 滞在 の 目的 は 。 <end>',\n",
              " '<start> バス 乗り場 を 教え て くださ い 。 <end>',\n",
              " '<start> ぜひ に と あ れ ば 仕方 が な い 。 <end>',\n",
              " '<start> まだ 決心 が つ か な い の で 同意 でき ま せ ん 。 <end>',\n",
              " '<start> なぜ 私 たち の チーム が 負け た か 説明 でき ま す か 。 <end>',\n",
              " '<start> 僕 は 今度 の 日曜 日 は 勤務 だ 。 <end>',\n",
              " '<start> ご 無 沙汰 は お 互い さま で す 。 <end>',\n",
              " '<start> 家 を 建て る の に 彼 ら は ２ 年 かか っ た 。 <end>',\n",
              " '<start> 私 は カナダ に い る 友達 に 会 い た い 。 <end>',\n",
              " '<start> 私 は まえ も っ て あなた に 知 ら せ る だ ろ う 。 <end>',\n",
              " '<start> それ を し な けれ ば と 思 っ た 。 <end>',\n",
              " '<start> 時間 を 浪費 す べ き で は な い 。 <end>',\n",
              " '<start> 嘘 は 決して つく な ！ <end>',\n",
              " '<start> 彼 に この 箱 を 二 階 へ 運 ん で もら お う 。 <end>',\n",
              " '<start> 学校 に 行 か ず に 彼 は 家 に い た 。 <end>',\n",
              " '<start> ジム は 弁護 士 で な く 医者 だ 。 <end>',\n",
              " '<start> 木 はたとえ あ っ て も ほとんど な い 。 <end>',\n",
              " '<start> どこ に 座 っ たら い い で す か 。 <end>',\n",
              " '<start> 成功 の 秘訣 は 失敗 を 考え な い こと だ 。 <end>',\n",
              " '<start> 彼女 は エイミー の 名 で 通 っ て い る 。 <end>',\n",
              " '<start> 彼女 は 銀行 に 勤め て い る 。 <end>',\n",
              " '<start> 今晩 泊め て くれ な い か な 。 <end>',\n",
              " '<start> で も 名前 くらい は 知 っ て い る 。 <end>',\n",
              " '<start> スミス 私 と は 長 い 間 の 知り合い で す 。 <end>',\n",
              " '<start> 彼 は 人生 経験 が 豊富 で あ る 。 <end>',\n",
              " '<start> 英語 が 話せ たら い い の だ が 。 <end>',\n",
              " '<start> 彼 の 手紙 に 返信 を 出 す べ き だっ た の に 。 <end>',\n",
              " '<start> あなた は これ と あれ と どちら が 好き で す か 。 <end>',\n",
              " '<start> 彼女 は ちょっと の 間 も 休 ま な い 。 <end>',\n",
              " '<start> 彼 は 友人 と 握手 し た 。 <end>',\n",
              " '<start> 少し 休め ば 元気 に な る で しょ う 。 <end>',\n",
              " '<start> 何 か 新し い もの が ほし い 。 <end>',\n",
              " '<start> 彼 は この 前 会 っ た 時 より 太 っ て い る 。 <end>',\n",
              " '<start> 私 は あなた と 全く 同じ 意見 と い う わけ で は な い 。 <end>',\n",
              " '<start> 私 は その 授業 を 済ま せ て い ま す 。 <end>',\n",
              " '<start> 早起き は 健康 に よ い 。 <end>',\n",
              " '<start> 彼 は この 仕事 を 独力 で 完成 し た 。 <end>',\n",
              " '<start> 彼 は 口 で は 答え ず 私 の 頭 を 殴りつけ た 。 <end>',\n",
              " '<start> もし パーティー を 開 く なら 私 も 仲間 に 入れ て 下さ い 。 <end>',\n",
              " '<start> 彼 ら は 丘 の ふもと の 村 に たどり着 い た 。 <end>',\n",
              " '<start> 英語 は 難し い で す ね 。 <end>',\n",
              " '<start> 皆 が 聞こえ る よう に はっきり と 話 し なさ い 。 <end>',\n",
              " '<start> 彼女 が 僕 の こと 好き だ なんて 思 い も し な かっ た 。 <end>',\n",
              " '<start> 彼女 は 風邪 を 引 い て 寝 て い る 。 <end>',\n",
              " '<start> 間違い を する の を 恐れ て は いけ ま せ ん 。 <end>',\n",
              " '<start> 私 が 君 に 言 っ た こと を 決し て 忘れ ま せ ん 。 <end>',\n",
              " '<start> 彼 は 軍隊 に い る 。 <end>',\n",
              " '<start> 彼 が 大好き ！ <end>',\n",
              " '<start> 馬 に 乗 る 事 は とても おもしろ い 。 <end>',\n",
              " '<start> ちょうど 出かけ た い と おも っ たら 雨 が 降 っ た 。 <end>',\n",
              " '<start> 私 の 妹 は 仕事 に 夢中 に な っ て い る 。 <end>',\n",
              " '<start> 電話 は どれ も 通 じ な い 。 <end>',\n",
              " '<start> 私 たち は 野球 を し ま し た 。 <end>',\n",
              " '<start> 東京 の 人口 は どの くらい で す か 。 <end>',\n",
              " '<start> われわれ は 絶対 に 試合 に 勝て る と 思 っ て い た 。 <end>',\n",
              " '<start> 私 は これ 以上 あの 男 と うま く や っ て いけ な い 。 <end>',\n",
              " '<start> 感染 症 の 病気 で す か 。 <end>',\n",
              " '<start> 彼女 は お ばけ で も 見 た か の よう な 気分 だっ た 。 <end>',\n",
              " '<start> これ は 申し上げ た 方 が よ い で しょ う 。 <end>',\n",
              " '<start> 武 は 来る に は 来 た が 、 すぐ 帰 っ た 。 <end>',\n",
              " '<start> 君 の 答え を トム の と 比較 し なさ い 。 <end>',\n",
              " '<start> その 内訳 は ？ <end>',\n",
              " '<start> 私 は 今朝 いつ も よ り 遅 く 起き た 。 <end>',\n",
              " '<start> これ が 全部 の 中 で いちばん 悪 い 。 <end>',\n",
              " '<start> 今日 夕食 を 作 り ま しょ う か 。 <end>',\n",
              " '<start> 彼 は 人混み を かき分け て 進 ん だ 。 <end>',\n",
              " '<start> 隣 の 部屋 で 誰 か の 話し声 が 聞こえ る 。 <end>',\n",
              " '<start> 教科 書 は どう し たら い い ん で しょ う か 。 <end>',\n",
              " '<start> 彼女 は 部屋 の 窓 を すべて 閉め た 。 <end>',\n",
              " '<start> 貝 は 好き で は な い 。 <end>',\n",
              " '<start> 小銭 の 持ち合わせ は あ り ま す か 。 <end>',\n",
              " '<start> 健康 は 他 の 何 より も 価値 が あ る 。 <end>',\n",
              " '<start> 私 は 昨夜 その 本 を 読み 終え た 。 <end>',\n",
              " '<start> 君 の 息子 さん 学生 運動 に 加わ っ て た そう だ ね 。 <end>',\n",
              " '<start> 私 は スポーツ が とても 苦手 だ 。 <end>',\n",
              " '<start> 彼 の 援助 なし で も や っ て いけ る 。 <end>',\n",
              " '<start> あなた は そんな に 早 く 起き る 必要 は な い 。 <end>',\n",
              " '<start> 彼 は 英語 か フランス 語 か どちら か 話せ る 。 <end>',\n",
              " '<start> な す 価値 の あ る こと は しくじ る 価値 が あ る 。 <end>',\n",
              " '<start> 彼 は 降参 し た 。 <end>',\n",
              " '<start> もちろん 、 い い で す よ 。 <end>',\n",
              " '<start> 彼女 は 涙 を 流 さ な い 様 に し た 。 <end>',\n",
              " '<start> 彼女 に は その 話 が しみじみ 感 じ られ た 。 <end>',\n",
              " '<start> 彼女 は 新し い 服 に 満足 し て い た 。 <end>',\n",
              " '<start> 彼 は 数 週間 東京 に 滞在 する だ ろ う 。 <end>',\n",
              " '<start> 彼 ら は 忙し かっ た 。 <end>',\n",
              " '<start> 私 は その とき 駅 に 向か っ て 歩 い て い た 。 <end>',\n",
              " '<start> 私 たち は 通り を 歩 い た 。 <end>',\n",
              " '<start> 今度 また 彼女 に 電話 する と い う なら これ っき り よ 。 <end>',\n",
              " '<start> ちょうど 私 の 目 の 前 で 自動 車 事故 が 起こ っ た 。 <end>',\n",
              " '<start> 女の子 は お 互い に 向き合 っ て い る 。 <end>',\n",
              " '<start> 金 で 自由 は 買え な い 。 <end>',\n",
              " '<start> 今日 は 宿題 が 無 い 。 <end>',\n",
              " '<start> この 古 い 上着 は もう 着 ら れ な い 。 <end>',\n",
              " '<start> バケツ に ほとんど 水 が な い 。 <end>',\n",
              " '<start> 困難 に 、 彼 は 両親 に 助け を 求め た 。 <end>',\n",
              " '<start> 太陽 が 雲 の 中 へ 入 っ た 。 <end>',\n",
              " '<start> 彼 の 話 は 冗談 だ 。 <end>',\n",
              " '<start> おそらく それ は 嘘 で あ ろ う 。 <end>',\n",
              " '<start> 先生 が 入 っ て くる と 彼女 は 立ち上が っ た 。 <end>',\n",
              " '<start> 彼 は 、 ディズニー が 好き で す 。 <end>',\n",
              " '<start> 雨 が 土砂降り に な っ た 。 <end>',\n",
              " '<start> この 雨 の 中 を お いで に な ら な い で くださ い 。 <end>',\n",
              " '<start> あなた の 家 に 迎え に 行 き ま す 。 <end>',\n",
              " '<start> 電報 で お 知 ら せ 下さ い 。 <end>',\n",
              " '<start> その 状況 を 確かめ て お き ま しょ う 。 <end>',\n",
              " '<start> 楽し い の は むしろ 私 達 の ほう で す 。 <end>',\n",
              " '<start> それ は や っ て み る 価値 は あ る と 思 う 。 <end>',\n",
              " '<start> 彼 は 演説 し て い る ところ だ 。 <end>',\n",
              " '<start> いつ も の 辞書 を 手近 に お い て お き なさ い 。 <end>',\n",
              " '<start> 来週 彼 は 仕事 で ニューヨーク に 行 き ま す 。 <end>',\n",
              " '<start> その 子 は 母親 に 甘え た 。 <end>',\n",
              " '<start> 彼 は 怒 っ て い る 男 を なだめ よ う と し た 。 <end>',\n",
              " '<start> 彼 は 本 を 処分 し た く 思 っ て い る 。 <end>',\n",
              " '<start> 私 の 言 う 通り に し なさ い 。 <end>',\n",
              " '<start> あの 本 を 私 の ため に と っ て お い て 下さ い 。 <end>',\n",
              " '<start> 彼女 は それ を 聞 い た 時 、 ただ 泣 い て い た 。 <end>',\n",
              " '<start> 私 は ちょうど 今 英語 の 宿題 が 終わ っ た ところ で す 。 <end>',\n",
              " '<start> 私 は 決して 借金 を し な い こと に し て い る 。 <end>',\n",
              " '<start> 健 は 去年 日本 に い ま し た 。 <end>',\n",
              " '<start> 彼 は 先月 以来 病気 だ そう で す 。 <end>',\n",
              " '<start> 来週 受験 でき ま す か 。 <end>',\n",
              " '<start> 彼女 は 明かり を 消 し た 。 <end>',\n",
              " '<start> 私 は 時々 彼 に あ い ま す 。 <end>',\n",
              " '<start> 私 は 彼女 に その パーティー に 行け る か どう か たずね た 。 <end>',\n",
              " '<start> あまり 食べ 過ぎ る な 。 <end>',\n",
              " '<start> とても 寒 い で す ね 。 <end>',\n",
              " '<start> 私 は 仕事 を 終え よ う と 努力 し た 。 <end>',\n",
              " '<start> 私 は 本 が ほし い 。 <end>',\n",
              " '<start> どちら に 転 ぶ か 、 微妙 な ところ で す 。 <end>',\n",
              " '<start> 私 は その 質問 に 答え る こと を 拒否 する 。 <end>',\n",
              " '<start> ちょっと 待 っ て い て もらえ ま す か 。 <end>',\n",
              " '<start> 自分 で や っ た こと だ から 仕方 が な い ね 。 <end>',\n",
              " '<start> どの くらい 日本 に 滞在 する か 。 <end>',\n",
              " '<start> 私 は この 問題 を 解 く こと が でき る 。 <end>',\n",
              " '<start> 彼女 は 彼 に 言い返 し た 。 <end>',\n",
              " '<start> 彼 の 作文 に 誤り が な かっ た 。 <end>',\n",
              " '<start> 今度 の 旅行 で 私 たち は かなり の 知り合い に な っ た 。 <end>',\n",
              " '<start> 私 は 彼 と 連絡 を 取 り た い 。 <end>',\n",
              " '<start> 私 が そこ に 出向 く 必要 が あ り ま す か 。 <end>',\n",
              " '<start> 私 に は 合わせ る 顔 が な い 。 <end>',\n",
              " '<start> 彼 は あの 子 に ほれこ ん で い る 。 <end>',\n",
              " '<start> 男の子 は みんな 野球 を する の が 好き だ 。 <end>',\n",
              " '<start> 負け る な 。 <end>',\n",
              " '<start> 私 は 待 ち に 待 ち ま し た 。 <end>',\n",
              " '<start> 彼女 の 病気 の ため に こ られ な かっ た 。 <end>',\n",
              " '<start> 私 は 時計 を 現金 で 買 っ た 。 <end>',\n",
              " '<start> 彼 の 自転 車 は 青 い 。 <end>',\n",
              " '<start> この ドア は どう に も 閉ま ら な い 。 <end>',\n",
              " '<start> この 問題 を 全体 と し て 考え る 必要 が あ る 。 <end>',\n",
              " '<start> 君 は 戦争 に 賛成 か 反対 か 。 <end>',\n",
              " '<start> たぶん 彼 は その こと を 忘れ た の だ ろ う 。 <end>',\n",
              " '<start> 彼 は 、 毎朝 長 い 散歩 を する 、 と 言 っ た 。 <end>',\n",
              " '<start> 私 は その 知らせ に びっくり し た 。 <end>',\n",
              " '<start> ここ から 東京 まで どの くらい の 距離 で す か 。 <end>',\n",
              " '<start> す み ま せ ん 、 ご 遠慮 いただけ ま す か 。 <end>',\n",
              " '<start> 私 は 今朝 成田 空港 に 到着 し た 。 <end>',\n",
              " '<start> 彼 は 他言 し な い と 約束 し た 。 <end>',\n",
              " '<start> 年 から 考え る と 彼 は 若 く 見え る 。 <end>',\n",
              " '<start> 彼 ら は 私 を 一人 で そこ へ いか し た 。 <end>',\n",
              " '<start> 詳し く 教え て 下さ い 。 <end>',\n",
              " '<start> あなた は まったく 正し い 。 <end>',\n",
              " '<start> 仕事 を す ま せ て 、 彼 は 床 に つ い た 。 <end>',\n",
              " '<start> 私 の 妹 は 毎朝 髪 を 洗 う 。 <end>',\n",
              " '<start> これ を 下ろ す の てつだ っ て くださ い 。 <end>',\n",
              " '<start> 私 は 彼 が 嫌い で す 。 <end>',\n",
              " '<start> それ に 超 し た こと は な い 。 <end>',\n",
              " '<start> 今 の ところ それ で 間に合 う で しょ う 。 <end>',\n",
              " '<start> こんな の は 今日 だけ で あ っ て ほし い わ 。 <end>',\n",
              " '<start> 彼女 に は 医者 で あ る 息子 が い る 。 <end>',\n",
              " '<start> その 先生 は 答案 を 調べ た 。 <end>',\n",
              " '<start> 彼 は 運 よ く 列車 に 間に合 っ た 。 <end>',\n",
              " '<start> 私 は 歩 い て 行 き ま す 。 <end>',\n",
              " '<start> 私 が 遅刻 し た の で 彼女 は 怒 っ た 。 <end>',\n",
              " '<start> 私 は それ を 食べ な い ほう が 良 い 。 <end>',\n",
              " '<start> 喜 ん で 君 を 援助 し て あげ よ う 。 <end>',\n",
              " '<start> 私 は 昨日 釣り を し に 川 へ 行 っ た 。 <end>',\n",
              " '<start> 駅 へ 行 っ て 来 た ところ だ 。 <end>',\n",
              " '<start> 彼 は 箱 に コイン を 何 枚 か 入れ た 。 <end>',\n",
              " '<start> これ は 本 で す 。 <end>',\n",
              " '<start> 彼 は テーブル を 一人 占め し て しま っ た 。 <end>',\n",
              " '<start> 私 は 雨 が 降り 出 す 前 に 学校 に 着 い た 。 <end>',\n",
              " '<start> その 国 は 戦争 の 準備 を し て い た 。 <end>',\n",
              " '<start> 私 は この 歌 を よく 知 っ て い る 。 <end>',\n",
              " '<start> 時 が た て ば どちら が 正し い か わか る で しょ う 。 <end>',\n",
              " '<start> あなた の 部屋 を 掃除 し ま し た か 。 <end>',\n",
              " '<start> 彼 は テニス が 上手 で あ る 。 <end>',\n",
              " '<start> 彼 は 決して 人 の 悪口 を 言 う 人 で は な い 。 <end>',\n",
              " '<start> 道路 地図 を 下さ い 。 <end>',\n",
              " '<start> 彼 の 言 う こと は 全然 わか ら な い 。 <end>',\n",
              " '<start> その 騒音 に 慣れ る の に 長 い 時間 かか っ た 。 <end>',\n",
              " '<start> そんな こと 言 う べ き で は な い 。 <end>',\n",
              " '<start> これ ら は 、 なん と 良 い 本 な の だ ろ う 。 <end>',\n",
              " '<start> 彼 は とても 努力 し た の だ が 、 成功 し な かっ た 。 <end>',\n",
              " '<start> どこ の ご 出身 で す か 。 <end>']"
            ]
          },
          "metadata": {
            "tags": []
          },
          "execution_count": 7
        }
      ]
    },
    {
      "cell_type": "code",
      "metadata": {
        "id": "U62Z0mrtz2i8"
      },
      "source": [
        "# train_ja = train_ja[0:100000]\n",
        "# train_en = train_en[0:100000]"
      ],
      "execution_count": null,
      "outputs": []
    },
    {
      "cell_type": "code",
      "metadata": {
        "id": "PLT_N-mqxbD4"
      },
      "source": [
        "ja_tokenizer = BuildTokenizer(train_ja)\n",
        "en_tokenizer = BuildTokenizer(train_en)"
      ],
      "execution_count": null,
      "outputs": []
    },
    {
      "cell_type": "code",
      "metadata": {
        "id": "vrbk4oP4ycRs"
      },
      "source": [
        "train_ja_sequences, test_ja_sequences = Texts2Sequences(ja_tokenizer, train_ja, test_ja)\n",
        "train_en_sequences, test_en_sequences = Texts2Sequences(en_tokenizer, train_en, test_en)"
      ],
      "execution_count": null,
      "outputs": []
    },
    {
      "cell_type": "code",
      "metadata": {
        "id": "XAq4IKPPzgft"
      },
      "source": [
        "def CreateEncoderModel(vocab_size):\n",
        "  units = 128\n",
        "  emb_layer = tf.keras.layers.Embedding(vocab_size, units, mask_zero=True, name=\"encdoder_emb\")#padding有効にするために、mask_zero=True\n",
        "  gru_layer  = tf.keras.layers.GRU(units, name=\"encdoder_gru\")\n",
        "  encoder_inputs = tf.keras.Input(shape=(None,), name=\"encdoder_inputs\")\n",
        "  outputs = emb_layer(encoder_inputs)\n",
        "  outputs = gru_layer(outputs)\n",
        "  \n",
        "  encoder = tf.keras.Model(encoder_inputs, outputs)\n",
        "\n",
        "  return encoder\n",
        "\n",
        "def CreateDecoderModel(vocab_size):\n",
        "  units = 128\n",
        "\n",
        "  emb_layer = tf.keras.layers.Embedding(vocab_size, units, mask_zero=True, name=\"decdoder_emb\")#padding有効にするために、mask_zero=True\n",
        "  gru_layer  = tf.keras.layers.GRU(units, return_sequences=True, name=\"decdoder_gru\")\n",
        "  dense_layer = tf.keras.layers.Dense(vocab_size, activation=\"softmax\", name=\"decdoder_outputs\")\n",
        "\n",
        "  decoder_inputs  = tf.keras.Input(shape=(None,), name=\"decdoder_inputs\")\n",
        "  decoder_hidden_states = tf.keras.Input(shape=(None,), name=\"decoder_hidden_states\")\n",
        "\n",
        "  outputs = emb_layer(decoder_inputs)\n",
        "  gru_outputs = gru_layer(outputs, initial_state=decoder_hidden_states)\n",
        "  outputs = dense_layer(gru_outputs)\n",
        "\n",
        "  decoder = tf.keras.Model([decoder_inputs, decoder_hidden_states], [outputs, gru_outputs])\n",
        "\n",
        "  return decoder\n",
        "\n",
        "def CreateModel(seed, ja_vocab_size, en_vocab_size):\n",
        "  tf.random.set_seed(seed)\n",
        "  encoder = CreateEncoderModel(ja_vocab_size)\n",
        "  decoder = CreateDecoderModel(en_vocab_size)\n",
        "\n",
        "  encoder_inputs = tf.keras.Input(shape=(None,))\n",
        "  decoder_inputs = tf.keras.Input(shape=(None,))\n",
        "\n",
        "  encoder_outputs = encoder(encoder_inputs)\n",
        "  decoder_outputs, gru_outputs = decoder([decoder_inputs, encoder_outputs])\n",
        "  \n",
        "  model = tf.keras.Model([encoder_inputs, decoder_inputs], decoder_outputs)\n",
        "  model.compile(optimizer='adam',\n",
        "                loss=tf.keras.losses.SparseCategoricalCrossentropy(from_logits=False),\n",
        "                )\n",
        "  return model, encoder, decoder\n",
        "  #評価方法はBLEU\n",
        "def Evaluate(ja_texts, en_texts, encoder, decoder):\n",
        "  score = 0.0\n",
        "  for ja_text, en_text in zip(ja_texts, en_texts):\n",
        "    predicted_text = Predict(ja_text, encoder, decoder)\n",
        "    score += sentence_bleu([en_text.strip().split()], predicted_text.strip().split(), smoothing_function=SmoothingFunction().method4)\n",
        "  return score/len(ja_texts)\n",
        "\n",
        "def Predict(ja_text, encoder, decoder):\n",
        "  #日本語文章が形態素解析されていない状態の場合は、MeCabを使ってください。\n",
        "  #MeCabの使い方\n",
        "  #m = MeCab.Tagger(\"-Owakati\")\n",
        "  #ja_text           = m.parse(ja_text).strip()\n",
        "  \n",
        "  sequence         = ja_tokenizer.texts_to_sequences([ja_text.strip()])\n",
        "  sequence         = np.array(sequence)\n",
        "  encoder_outputs = encoder(sequence)\n",
        "\n",
        "  decoder_hidden_states = encoder_outputs\n",
        "  decoder_inputs = np.array(en_tokenizer.texts_to_sequences([[\"<start>\"]]))\n",
        "\n",
        "  #20回で打ち切り\n",
        "  ans = \"<start>\"\n",
        "  for _ in range(20):\n",
        "    prediction, decoder_hidden_states = decoder([decoder_inputs, tf.reshape(decoder_hidden_states, [1, -1])])\n",
        "    prediction_id = tf.argmax(prediction, axis=-1)[0][0].numpy()\n",
        "    word = en_tokenizer.sequences_to_texts([[prediction_id]])\n",
        "    decoder_inputs = np.reshape(np.array(prediction_id), [-1, 1])\n",
        "    ans += \" \"+word[0]\n",
        "    if word[0]==\"<end>\":\n",
        "      break\n",
        "  return ans"
      ],
      "execution_count": null,
      "outputs": []
    },
    {
      "cell_type": "code",
      "metadata": {
        "id": "CYFee_Xp0ZvK"
      },
      "source": [
        "best_model, best_encoder, best_decoder = CreateModel(123, len(ja_tokenizer.word_index)+1, len(en_tokenizer.word_index)+1)"
      ],
      "execution_count": null,
      "outputs": []
    },
    {
      "cell_type": "code",
      "metadata": {
        "colab": {
          "base_uri": "https://localhost:8080/",
          "height": 381
        },
        "id": "DDPztHrBAvbD",
        "outputId": "be325119-2d1a-4392-bed3-5085469e1fca"
      },
      "source": [
        "# history = model.fit(X_train, y_train, epochs=75, batch_size=16,\n",
        "                    # verbose=1, validation_data=(X_test, y_test))\n",
        "history = best_model.fit([train_ja_sequences, train_en_sequences[:, :-1]], train_en_sequences[:, 1:], batch_size=32, epochs=3)\n",
        "loss = history.history['loss']\n",
        "# val_loss = history.history['val_loss']\n",
        "epochs = len(loss)\n",
        "plt.plot(range(epochs), loss, marker='.', label='loss')\n",
        "# plt.plot(range(epochs), val_loss, marker='.', label='val_loss')\n",
        "plt.legend(loc='best')\n",
        "plt.grid()\n",
        "plt.xlabel('epoch')\n",
        "plt.ylabel('loss')\n",
        "plt.show()"
      ],
      "execution_count": null,
      "outputs": [
        {
          "output_type": "stream",
          "text": [
            "Epoch 1/3\n",
            "1563/1563 [==============================] - 54s 34ms/step - loss: 1.6603\n",
            "Epoch 2/3\n",
            "1563/1563 [==============================] - 54s 34ms/step - loss: 1.4408\n",
            "Epoch 3/3\n",
            "1563/1563 [==============================] - 54s 35ms/step - loss: 1.2745\n"
          ],
          "name": "stdout"
        },
        {
          "output_type": "display_data",
          "data": {
            "image/png": "[encoded data removed]",
            "text/plain": [
              "<Figure size 432x288 with 1 Axes>"
            ]
          },
          "metadata": {
            "tags": [],
            "needs_background": "light"
          }
        }
      ]
    },
    {
      "cell_type": "code",
      "metadata": {
        "colab": {
          "base_uri": "https://localhost:8080/"
        },
        "id": "0bVNjGyP0cSU",
        "outputId": "70c8c4a3-2dd8-4010-c365-a6faf6f1454f"
      },
      "source": [
        "best_model.fit([train_ja_sequences, train_en_sequences[:, :-1]], train_en_sequences[:, 1:], batch_size=32, epochs=100)\n",
        "\n",
        "bleu_score = Evaluate(test_ja, test_en, best_encoder, best_decoder)\n",
        "print(\"bleu on test_dataset:\")\n",
        "print(bleu_score)\n",
        "\n"
      ],
      "execution_count": null,
      "outputs": [
        {
          "output_type": "stream",
          "text": [
            "Epoch 1/5\n",
            "1563/1563 [==============================] - 73s 42ms/step - loss: 2.6568\n",
            "Epoch 2/5\n",
            "1563/1563 [==============================] - 65s 42ms/step - loss: 1.7143\n",
            "Epoch 3/5\n",
            "1563/1563 [==============================] - 66s 42ms/step - loss: 1.4727\n",
            "Epoch 4/5\n",
            "1563/1563 [==============================] - 67s 43ms/step - loss: 1.2924\n",
            "Epoch 5/5\n",
            "1563/1563 [==============================] - 68s 43ms/step - loss: 1.1528\n",
            "bleu on test_dataset:\n",
            "0.19435027906746655\n"
          ],
          "name": "stdout"
        }
      ]
    },
    {
      "cell_type": "code",
      "metadata": {
        "colab": {
          "base_uri": "https://localhost:8080/",
          "height": 168
        },
        "id": "qmrThHrePrY1",
        "outputId": "45c35230-6c27-423f-808f-90db68548f08"
      },
      "source": [
        "histrory"
      ],
      "execution_count": null,
      "outputs": [
        {
          "output_type": "error",
          "ename": "NameError",
          "evalue": "ignored",
          "traceback": [
            "\u001b[0;31m---------------------------------------------------------------------------\u001b[0m",
            "\u001b[0;31mNameError\u001b[0m                                 Traceback (most recent call last)",
            "\u001b[0;32m<ipython-input-51-fef2c9137a41>\u001b[0m in \u001b[0;36m<module>\u001b[0;34m()\u001b[0m\n\u001b[0;32m----> 1\u001b[0;31m \u001b[0mhistrory\u001b[0m\u001b[0;34m\u001b[0m\u001b[0;34m\u001b[0m\u001b[0m\n\u001b[0m",
            "\u001b[0;31mNameError\u001b[0m: name 'histrory' is not defined"
          ]
        }
      ]
    },
    {
      "cell_type": "code",
      "metadata": {
        "colab": {
          "base_uri": "https://localhost:8080/"
        },
        "id": "ARbIaeFfMe5v",
        "outputId": "f5f422a5-3ded-49ff-ae29-80684b1b89df"
      },
      "source": [
        "bleu_score = Evaluate(test_ja, test_en, best_encoder, best_decoder)\n",
        "print(\"bleu on test_dataset:\")\n",
        "print(bleu_score)"
      ],
      "execution_count": null,
      "outputs": [
        {
          "output_type": "stream",
          "text": [
            "bleu on test_dataset:\n",
            "0.18095887451718753\n"
          ],
          "name": "stdout"
        }
      ]
    },
    {
      "cell_type": "code",
      "metadata": {
        "colab": {
          "base_uri": "https://localhost:8080/",
          "height": 52
        },
        "id": "zKxhb5Lc1KQG",
        "outputId": "f9d6739a-60ce-40d0-fff8-b95e77324896"
      },
      "source": [
        "Predict(\"<start>エミ は 幸せ そう に 見え ま せん 。<end>\",best_encoder,best_decoder)"
      ],
      "execution_count": null,
      "outputs": [
        {
          "output_type": "execute_result",
          "data": {
            "application/vnd.google.colaboratory.intrinsic+json": {
              "type": "string"
            },
            "text/plain": [
              "'<start> treats shelves contract visa magazine greek location strongly 50,000 pillow trifles sunrise buy buy kenny bursting compelled compelled old fantasy'"
            ]
          },
          "metadata": {
            "tags": []
          },
          "execution_count": 46
        }
      ]
    },
    {
      "cell_type": "code",
      "metadata": {
        "colab": {
          "base_uri": "https://localhost:8080/"
        },
        "id": "-P-p51rcG6OZ",
        "outputId": "bd688a54-74b9-4175-860b-baf6edfabebf"
      },
      "source": [
        "type(train_ja_sequences)"
      ],
      "execution_count": null,
      "outputs": [
        {
          "output_type": "execute_result",
          "data": {
            "text/plain": [
              "numpy.ndarray"
            ]
          },
          "metadata": {
            "tags": []
          },
          "execution_count": 21
        }
      ]
    },
    {
      "cell_type": "code",
      "metadata": {
        "colab": {
          "base_uri": "https://localhost:8080/"
        },
        "id": "m0buAaEVHBzY",
        "outputId": "7ef472e3-8877-440f-9b83-4fd556b734b5"
      },
      "source": [
        "test_en[0:5]"
      ],
      "execution_count": null,
      "outputs": [
        {
          "output_type": "execute_result",
          "data": {
            "text/plain": [
              "['<start> i can t tell who will arrive first . <end>',\n",
              " '<start> many animals have been destroyed by men . <end>',\n",
              " '<start> i m in the tennis club . <end>',\n",
              " '<start> emi looks happy . <end>',\n",
              " '<start> please bear this fact in mind . <end>']"
            ]
          },
          "metadata": {
            "tags": []
          },
          "execution_count": 32
        }
      ]
    },
    {
      "cell_type": "code",
      "metadata": {
        "colab": {
          "base_uri": "https://localhost:8080/"
        },
        "id": "RZEFflszMD8J",
        "outputId": "252f6d8b-21a4-461e-91d1-b02b65636889"
      },
      "source": [
        "train_en[0:5]"
      ],
      "execution_count": null,
      "outputs": [
        {
          "output_type": "execute_result",
          "data": {
            "text/plain": [
              "['<start> i can t tell who will arrive first . <end>',\n",
              " '<start> many animals have been destroyed by men . <end>',\n",
              " '<start> i m in the tennis club . <end>',\n",
              " '<start> emi looks happy . <end>',\n",
              " '<start> please bear this fact in mind . <end>']"
            ]
          },
          "metadata": {
            "tags": []
          },
          "execution_count": 33
        }
      ]
    },
    {
      "cell_type": "code",
      "metadata": {
        "colab": {
          "base_uri": "https://localhost:8080/"
        },
        "id": "lq0ibkqSMHlm",
        "outputId": "79ed2b4e-c512-4ccd-c0aa-3be2e64ea341"
      },
      "source": [
        "len(train_en)"
      ],
      "execution_count": null,
      "outputs": [
        {
          "output_type": "execute_result",
          "data": {
            "text/plain": [
              "50000"
            ]
          },
          "metadata": {
            "tags": []
          },
          "execution_count": 34
        }
      ]
    },
    {
      "cell_type": "code",
      "metadata": {
        "colab": {
          "base_uri": "https://localhost:8080/"
        },
        "id": "I8VTxNNlMKPK",
        "outputId": "473142cc-d2de-4dbf-d141-30348b39f44f"
      },
      "source": [
        "len(test_en)"
      ],
      "execution_count": null,
      "outputs": [
        {
          "output_type": "execute_result",
          "data": {
            "text/plain": [
              "50000"
            ]
          },
          "metadata": {
            "tags": []
          },
          "execution_count": 35
        }
      ]
    },
    {
      "cell_type": "code",
      "metadata": {
        "colab": {
          "base_uri": "https://localhost:8080/"
        },
        "id": "w47OOcsPMK7j",
        "outputId": "442275ea-e8e0-4f91-ba5b-ed94e6adab7b"
      },
      "source": [
        "len(test_ja)"
      ],
      "execution_count": null,
      "outputs": [
        {
          "output_type": "execute_result",
          "data": {
            "text/plain": [
              "500"
            ]
          },
          "metadata": {
            "tags": []
          },
          "execution_count": 36
        }
      ]
    },
    {
      "cell_type": "code",
      "metadata": {
        "colab": {
          "base_uri": "https://localhost:8080/"
        },
        "id": "8SvGRUgXMMKK",
        "outputId": "a1c69b15-9068-4da1-af54-596ac8bdfe8c"
      },
      "source": [
        "len(test_en)"
      ],
      "execution_count": null,
      "outputs": [
        {
          "output_type": "execute_result",
          "data": {
            "text/plain": [
              "500"
            ]
          },
          "metadata": {
            "tags": []
          },
          "execution_count": 48
        }
      ]
    },
    {
      "cell_type": "code",
      "metadata": {
        "id": "pu7BoaF6ND8B"
      },
      "source": [
        ""
      ],
      "execution_count": null,
      "outputs": []
    }
  ]
}